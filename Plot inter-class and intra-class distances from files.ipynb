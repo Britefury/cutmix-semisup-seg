{
 "cells": [
  {
   "cell_type": "markdown",
   "metadata": {},
   "source": [
    "# Plot Cityscapes inter-class : intra-class distance ratio histogram"
   ]
  },
  {
   "cell_type": "code",
   "execution_count": 1,
   "metadata": {},
   "outputs": [],
   "source": [
    "import os\n",
    "import pathlib\n",
    "import tqdm\n",
    "import numpy as np\n",
    "import pickle\n",
    "from scipy.ndimage.filters import uniform_filter\n",
    "from matplotlib import pyplot as plt\n"
   ]
  },
  {
   "cell_type": "markdown",
   "metadata": {},
   "source": [
    "Change `OUT_PATH` to a directory in which you want to save the plots."
   ]
  },
  {
   "cell_type": "code",
   "execution_count": 2,
   "metadata": {},
   "outputs": [],
   "source": [
    "IN_PATH = pathlib.Path(r'./results/distances')\n",
    "# OUT_PATH = pathlib.Path(r'....')\n",
    "OUT_PATH = None"
   ]
  },
  {
   "cell_type": "markdown",
   "metadata": {},
   "source": [
    "We originally ran the `intra_inter_class_patch_dist.py` program on a cluster, using `--batch_size=10`, with the job number determining the batch `--batch=${JOB_INDEX}`. Please pardon our use of the term batch here. In this case we are dividing the 1000 patches (the default, set using `--n_patches`) into batches of 10, therefore dividing the work between 100 processes that can be processed in parallel.\n",
    "\n",
    "The code below loads all the output generated and joins it together."
   ]
  },
  {
   "cell_type": "code",
   "execution_count": 31,
   "metadata": {
    "scrolled": true
   },
   "outputs": [
    {
     "name": "stdout",
     "output_type": "stream",
     "text": [
      "same_image_intra_class_dists: (1000, 1000)\n",
      "same_image_intra_class_coords: (1000, 1000, 3)\n",
      "same_image_inter_class_dists: (1000, 1000)\n",
      "same_image_inter_class_coords: (1000, 1000, 3)\n",
      "other_image_intra_class_dists: (1000, 1000)\n",
      "other_image_intra_class_coords: (1000, 1000, 3)\n",
      "other_image_inter_class_dists: (1000, 1000)\n",
      "other_image_inter_class_coords: (1000, 1000, 3)\n",
      "anchor_negative_img_dir_y_x_cls: (1000, 5)\n",
      "boundary_dists: (1000,)\n"
     ]
    }
   ],
   "source": [
    "def dict_concat(x, y):\n",
    "    j = dict()\n",
    "    j.update(x)\n",
    "    for k in y.keys():\n",
    "        if k in j:\n",
    "            if isinstance(y[k], list):\n",
    "                j[k] = j[k] + y[k]\n",
    "            elif isinstance(y[k], np.ndarray):\n",
    "                j[k] = np.append(j[k], y[k], axis=0)\n",
    "            else:\n",
    "                pass\n",
    "        else:\n",
    "            j[k] = y[k]\n",
    "    return j\n",
    "\n",
    "def join(data):\n",
    "    data_out = {}\n",
    "    for k, v in data.items():\n",
    "        if v[0].ndim > 0:\n",
    "            lengths = np.array([len(x) for x in v])\n",
    "            max_len = lengths.max()\n",
    "            if (lengths != max_len).any():\n",
    "                max_val = np.array([x.max() for x in v]).max()\n",
    "                v = [np.pad(x, [[0, max_len-len(x)]] + [[0,0]] * (x.ndim-1), mode='constant',\n",
    "                            constant_values=max_val) for x in v]\n",
    "        data_out[k] = np.array(v)\n",
    "    return data_out\n",
    "\n",
    "data = {}\n",
    "for i in range(1, 101):\n",
    "    path = IN_PATH / 'intra_inter_class_distances_{}.pkl'.format(i)\n",
    "    with path.open('rb') as f_in:\n",
    "        batch = pickle.load(f_in)\n",
    "        data = dict_concat(data, batch)\n",
    "        \n",
    "data = join(data)\n",
    "\n",
    "for k in data.keys():\n",
    "    print('{}: {}'.format(k, data[k].shape))"
   ]
  },
  {
   "cell_type": "code",
   "execution_count": 32,
   "metadata": {},
   "outputs": [],
   "source": [
    "anchor_negative_img_dir_y_x_cls = data['anchor_negative_img_dir_y_x_cls']\n",
    "same_image_intra_class_dists = data['same_image_intra_class_dists']\n",
    "same_image_intra_class_coords = data['same_image_intra_class_coords']\n",
    "same_image_inter_class_dists = data['same_image_inter_class_dists']\n",
    "same_image_inter_class_coords = data['same_image_inter_class_coords']\n",
    "other_image_intra_class_dists = data['other_image_intra_class_dists']\n",
    "other_image_intra_class_coords = data['other_image_intra_class_coords']\n",
    "other_image_inter_class_dists = data['other_image_inter_class_dists']\n",
    "other_image_inter_class_coords = data['other_image_inter_class_coords']\n",
    "boundary_dists = data['boundary_dists']\n"
   ]
  },
  {
   "cell_type": "code",
   "execution_count": 34,
   "metadata": {},
   "outputs": [
    {
     "data": {
      "text/plain": [
       "True"
      ]
     },
     "execution_count": 34,
     "metadata": {},
     "output_type": "execute_result"
    }
   ],
   "source": [
    "((anchor_negative_img_dir_y_x_cls[:, None, :] == anchor_negative_img_dir_y_x_cls[None, :, :]).all(axis=2) == np.eye(1000)).all()"
   ]
  },
  {
   "cell_type": "markdown",
   "metadata": {},
   "source": [
    "We want to look at the input data distribution, considering inter-class and intra-class variation.\n",
    "Although we use inter-class and intra-class distances here.\n",
    "\n",
    "We randomly chose 1,000 anchor patches from the Cityscapes dataset that are centred on pixels that are adjacent to a class boundary.\n",
    "\n",
    "For the inter-class distances, we compute the $L^2$ distance between the anchor patch $A_i$ and a negative patch $N_i$ where the central pixels of $N_i$ is chosen such that the central pixels of $A_i$ and $N_i$ are immediate neighbours that lie either side of a class boundary.\n",
    "\n",
    "For the intra-class distance, we consider the distance over which the model must generalise within the same class. For a given anchor patch $A_i$ we search for a positive patch $P_i$ from the set of patches $S_i$, where $S_i$ is:\n",
    "\n",
    "- all patches that can be extracted from the entire dataset in a sliding window fashion\n",
    "- where the patches in $S_i$ do not come from the same image as $A_i$\n",
    "- where the central pixel of the patches in $S_i$ has the same class as that of $A_i$\n",
    "\n",
    "We choose the patch $P_i$ from $S_i$ such that has the smallest $L^2$ distance to $A_i$. Thus thus distance represents the best case distance over which the model must generalise within a class.\n",
    "\n",
    "\n",
    "#### The figures\n",
    "Below, we plot two figures.\n",
    "\n",
    "First we plot a histogram of the distances $|N_i - A_i|$ and $|P_i - A_i|$.\n",
    "\n",
    "Secondly we plot  histogram of the ratio $\\frac{|N_i - A_i|}{|P_i - A_i|}$."
   ]
  },
  {
   "cell_type": "code",
   "execution_count": 46,
   "metadata": {},
   "outputs": [
    {
     "data": {
      "image/png": "[encoded data removed]",
      "text/plain": [
       "<Figure size 864x432 with 1 Axes>"
      ]
     },
     "metadata": {
      "needs_background": "light"
     },
     "output_type": "display_data"
    },
    {
     "data": {
      "image/png": "[encoded data removed]",
      "text/plain": [
       "<Figure size 432x216 with 1 Axes>"
      ]
     },
     "metadata": {
      "needs_background": "light"
     },
     "output_type": "display_data"
    }
   ],
   "source": [
    "plt.figure(figsize=(12,6))\n",
    "plt.hist(boundary_dists, bins=50)\n",
    "plt.hist(other_image_intra_class_dists[:, 0], bins=100, alpha=0.5)\n",
    "plt.show()\n",
    "\n",
    "plt.figure(figsize=(6,3))\n",
    "# plt.hist(other_image_intra_class_dists[:, 0] / boundary_dists, bins=50)\n",
    "plt.hist(boundary_dists / other_image_intra_class_dists[:, 0], bins=50)\n",
    "plt.gcf().subplots_adjust(bottom=0.15)\n",
    "plt.title('Cityscapes training set')\n",
    "plt.ylabel('Frequency')\n",
    "plt.xlabel('Distance ratio - inter-class dist : intra-class dist')\n",
    "if OUT_PATH is not None:\n",
    "    plt.savefig(str(OUT_PATH / 'cityscapes_dist_ratio_hist.pdf'))\n",
    "    plt.savefig(str(OUT_PATH / 'cityscapes_dist_ratio_hist_png.png'))\n",
    "\n",
    "plt.show()\n",
    "\n"
   ]
  },
  {
   "cell_type": "code",
   "execution_count": 41,
   "metadata": {},
   "outputs": [
    {
     "data": {
      "image/png": "[encoded data removed]",
      "text/plain": [
       "<Figure size 864x432 with 1 Axes>"
      ]
     },
     "metadata": {
      "needs_background": "light"
     },
     "output_type": "display_data"
    }
   ],
   "source": [
    "closer = (same_image_dists <= other_image_dists[:, 0:1])\n",
    "offset_dists = np.sqrt(((same_image_coords[:, :, 1:3] - img_dir_ij[:, None, 2:4])**2).sum(axis=2))\n",
    "f = (closer * offset_dists).max(axis=1)\n",
    "plt.figure(figsize=(12,6))\n",
    "plt.hist(f, bins=200)\n",
    "plt.show()\n",
    "\n"
   ]
  }
 ],
 "metadata": {
  "kernelspec": {
   "display_name": "Python 3",
   "language": "python",
   "name": "python3"
  },
  "language_info": {
   "codemirror_mode": {
    "name": "ipython",
    "version": 3
   },
   "file_extension": ".py",
   "mimetype": "text/x-python",
   "name": "python",
   "nbconvert_exporter": "python",
   "pygments_lexer": "ipython3",
   "version": "3.7.7"
  }
 },
 "nbformat": 4,
 "nbformat_minor": 2
}
